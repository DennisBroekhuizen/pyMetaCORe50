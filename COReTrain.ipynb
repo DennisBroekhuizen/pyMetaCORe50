{
  "nbformat": 4,
  "nbformat_minor": 0,
  "metadata": {
    "colab": {
      "name": "COReTrain.ipynb",
      "provenance": [],
      "collapsed_sections": []
    },
    "kernelspec": {
      "name": "python3",
      "display_name": "Python 3"
    },
    "accelerator": "GPU"
  },
  "cells": [
    {
      "cell_type": "code",
      "metadata": {
        "id": "shocsM7yp1r_",
        "colab_type": "code",
        "colab": {}
      },
      "source": [
        "\"\"\"\n",
        "Author:         Dennis Broekhuizen, Tilburg University\n",
        "Credits:        Giacomo Spigler, pyMeta: https://github.com/spiglerg/pyMeta\n",
        "Description:    Train CORe50 with pyMeta via Google Colab\n",
        "\"\"\""
      ],
      "execution_count": 0,
      "outputs": []
    },
    {
      "cell_type": "code",
      "metadata": {
        "id": "GtPyGcUtwtUI",
        "colab_type": "code",
        "colab": {}
      },
      "source": [
        "# Connect to Google Drive.\n",
        "from google.colab import drive\n",
        "drive.mount('/content/drive')"
      ],
      "execution_count": 0,
      "outputs": []
    },
    {
      "cell_type": "code",
      "metadata": {
        "id": "dUtIuGbawzCn",
        "colab_type": "code",
        "colab": {}
      },
      "source": [
        "from __future__ import absolute_import, division, print_function, unicode_literals\n",
        "\n",
        "# Import TensorFlow 2\n",
        "try:\n",
        "  # %tensorflow_version only exists in Colab.\n",
        "  %tensorflow_version 2.x\n",
        "except Exception:\n",
        "  pass\n",
        "\n",
        "import tensorflow as tf"
      ],
      "execution_count": 0,
      "outputs": []
    },
    {
      "cell_type": "code",
      "metadata": {
        "id": "dIUBYQNT6x8O",
        "colab_type": "code",
        "colab": {}
      },
      "source": [
        "# Check for GPU.\n",
        "device_name = tf.test.gpu_device_name()\n",
        "# print(device_name)\n",
        "if device_name != '/device:GPU:0':\n",
        "    raise SystemError('GPU device not found')\n",
        "print('Found GPU at: {}'.format(device_name))"
      ],
      "execution_count": 0,
      "outputs": []
    },
    {
      "cell_type": "code",
      "metadata": {
        "id": "96RxQ6OebRar",
        "colab_type": "code",
        "colab": {}
      },
      "source": [
        "# Check GPU specs.\n",
        "!nvidia-smi"
      ],
      "execution_count": 0,
      "outputs": []
    },
    {
      "cell_type": "code",
      "metadata": {
        "id": "6ViA33UaxJGV",
        "colab_type": "code",
        "colab": {}
      },
      "source": [
        "# Change directory to correct path.\n",
        "%cd drive/My\\ Drive/pyMeta-master"
      ],
      "execution_count": 0,
      "outputs": []
    },
    {
      "cell_type": "code",
      "metadata": {
        "id": "7OJ0eFMLhcHZ",
        "colab_type": "code",
        "colab": {}
      },
      "source": [
        "# Run CORe50 train script.\n",
        "!python core50_metatrain.py"
      ],
      "execution_count": 0,
      "outputs": []
    }
  ]
}